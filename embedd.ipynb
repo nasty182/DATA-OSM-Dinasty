{
 "cells": [
  {
   "cell_type": "code",
   "execution_count": 1,
   "metadata": {},
   "outputs": [],
   "source": [
    "import networkx as nx\n",
    "from node2vec import Node2Vec"
   ]
  },
  {
   "cell_type": "code",
   "execution_count": 2,
   "metadata": {},
   "outputs": [
    {
     "data": {
      "application/vnd.jupyter.widget-view+json": {
       "model_id": "0b8d609c87d34f13a8157afff924dc3c",
       "version_major": 2,
       "version_minor": 0
      },
      "text/plain": [
       "Computing transition probabilities:   0%|          | 0/139080 [00:00<?, ?it/s]"
      ]
     },
     "metadata": {},
     "output_type": "display_data"
    },
    {
     "name": "stderr",
     "output_type": "stream",
     "text": [
      "Generating walks (CPU: 1):  17%|█▋        | 25/150 [13:41<1:13:20, 35.20s/it]"
     ]
    }
   ],
   "source": [
    "import networkx as nx\n",
    "from node2vec import Node2Vec\n",
    "\n",
    "# Step 1: Load the GraphML file\n",
    "graph = nx.read_graphml('D:\\DATA-OSM-Dinasty\\DATASET.graphml')\n",
    "\n",
    "# Step 2: Preprocess the graph (if needed)\n",
    "# ...\n",
    "\n",
    "# Step 3: Choose an embedding technique\n",
    "# Here, we'll use node2vec\n",
    "\n",
    "# Step 4: Generate graph embeddings\n",
    "# Set the parameters for node2vec\n",
    "p = 1.0  # Return hyperparameter\n",
    "q = 1.0  # In-out hyperparameter\n",
    "dimensions = 128  # Embedding dimensions\n",
    "walk_length = 80  # Length of each random walk\n",
    "num_walks = 150  # Number of random walks to generate\n",
    "\n",
    "# Create a node2vec object and generate embeddings\n",
    "node2vec = Node2Vec(graph, dimensions=dimensions, walk_length=walk_length, num_walks=num_walks, p=p, q=q)\n",
    "model = node2vec.fit(window=10, min_count=1, batch_words=4)\n",
    "\n",
    "# Step 5: Save the node embeddings\n",
    "output_file = 'embeddings.txt'  # File path to save the embeddings\n",
    "model.wv.save_word2vec_format(output_file)\n"
   ]
  }
 ],
 "metadata": {
  "kernelspec": {
   "display_name": "Python 3",
   "language": "python",
   "name": "python3"
  },
  "language_info": {
   "codemirror_mode": {
    "name": "ipython",
    "version": 3
   },
   "file_extension": ".py",
   "mimetype": "text/x-python",
   "name": "python",
   "nbconvert_exporter": "python",
   "pygments_lexer": "ipython3",
   "version": "3.11.4"
  },
  "orig_nbformat": 4
 },
 "nbformat": 4,
 "nbformat_minor": 2
}
